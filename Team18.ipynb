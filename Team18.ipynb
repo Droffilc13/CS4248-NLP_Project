{
 "cells": [
  {
   "cell_type": "markdown",
   "id": "2c3d2f91-1f6f-4b8a-be8c-eb673e74ef6d",
   "metadata": {},
   "source": [
    "# CS4248 NLP Project Team 18"
   ]
  },
  {
   "cell_type": "markdown",
   "id": "37e0af41-f2e7-40e9-850a-a08f76908f4e",
   "metadata": {},
   "source": [
    "## Installing necessary libraries\n",
    "\n",
    "*Note*: Put libraries that need to be installed with `!pip install LIBRARY` so that we can ensure consistency in packages"
   ]
  },
  {
   "cell_type": "code",
   "execution_count": 2,
   "id": "acd8a95b-3cc9-48bc-b669-479e3a06b97f",
   "metadata": {},
   "outputs": [
    {
     "name": "stdout",
     "output_type": "stream",
     "text": [
      "Collecting scikit-learn\n",
      "  Using cached scikit_learn-1.4.1.post1-cp311-cp311-win_amd64.whl (10.6 MB)\n",
      "Collecting numpy<2.0,>=1.19.5 (from scikit-learn)\n",
      "  Using cached numpy-1.26.4-cp311-cp311-win_amd64.whl (15.8 MB)\n",
      "Collecting scipy>=1.6.0 (from scikit-learn)\n",
      "  Downloading scipy-1.13.0-cp311-cp311-win_amd64.whl (46.2 MB)\n",
      "                                              0.0/46.2 MB ? eta -:--:--\n",
      "                                              1.1/46.2 MB 34.7 MB/s eta 0:00:02\n",
      "     ---                                      3.6/46.2 MB 45.8 MB/s eta 0:00:01\n",
      "     -----                                    6.6/46.2 MB 52.9 MB/s eta 0:00:01\n",
      "     --------                                 9.4/46.2 MB 54.4 MB/s eta 0:00:01\n",
      "     ----------                              13.0/46.2 MB 65.6 MB/s eta 0:00:01\n",
      "     -------------                           15.8/46.2 MB 65.2 MB/s eta 0:00:01\n",
      "     ---------------                         18.9/46.2 MB 65.2 MB/s eta 0:00:01\n",
      "     ------------------                      22.0/46.2 MB 65.6 MB/s eta 0:00:01\n",
      "     -------------------                     23.0/46.2 MB 65.6 MB/s eta 0:00:01\n",
      "     ---------------------                   25.4/46.2 MB 50.4 MB/s eta 0:00:01\n",
      "     -----------------------                 28.1/46.2 MB 50.4 MB/s eta 0:00:01\n",
      "     -------------------------               30.6/46.2 MB 50.4 MB/s eta 0:00:01\n",
      "     ----------------------------            33.7/46.2 MB 59.5 MB/s eta 0:00:01\n",
      "     -------------------------------         36.9/46.2 MB 65.2 MB/s eta 0:00:01\n",
      "     ---------------------------------       39.5/46.2 MB 59.5 MB/s eta 0:00:01\n",
      "     -----------------------------------     42.6/46.2 MB 65.6 MB/s eta 0:00:01\n",
      "     --------------------------------------  45.2/46.2 MB 59.5 MB/s eta 0:00:01\n",
      "     --------------------------------------  46.2/46.2 MB 59.5 MB/s eta 0:00:01\n",
      "     --------------------------------------  46.2/46.2 MB 59.5 MB/s eta 0:00:01\n",
      "     --------------------------------------- 46.2/46.2 MB 32.7 MB/s eta 0:00:00\n",
      "Collecting joblib>=1.2.0 (from scikit-learn)\n",
      "  Using cached joblib-1.3.2-py3-none-any.whl (302 kB)\n",
      "Collecting threadpoolctl>=2.0.0 (from scikit-learn)\n",
      "  Downloading threadpoolctl-3.4.0-py3-none-any.whl (17 kB)\n",
      "Installing collected packages: threadpoolctl, numpy, joblib, scipy, scikit-learn\n",
      "Successfully installed joblib-1.3.2 numpy-1.26.4 scikit-learn-1.4.1.post1 scipy-1.13.0 threadpoolctl-3.4.0\n"
     ]
    },
    {
     "name": "stderr",
     "output_type": "stream",
     "text": [
      "\n",
      "[notice] A new release of pip is available: 23.1.2 -> 24.0\n",
      "[notice] To update, run: python.exe -m pip install --upgrade pip\n"
     ]
    }
   ],
   "source": [
    "!pip install scikit-learn"
   ]
  },
  {
   "cell_type": "markdown",
   "id": "92acb502-671c-441a-b82c-29a5edd337e4",
   "metadata": {},
   "source": [
    "## Data Analysis"
   ]
  },
  {
   "cell_type": "markdown",
   "id": "219d2eaf-d02d-43e8-b295-a361b2ecada7",
   "metadata": {},
   "source": [
    "## Preprocessing"
   ]
  },
  {
   "cell_type": "markdown",
   "id": "b3d37877-303a-494d-b7b0-b53f7b2c22d7",
   "metadata": {},
   "source": [
    "## Feature Engineering"
   ]
  },
  {
   "cell_type": "markdown",
   "id": "91081f05-7bb2-45c8-a463-9fc9f52c9a9f",
   "metadata": {},
   "source": [
    "## Model Training & Evaluation"
   ]
  },
  {
   "cell_type": "markdown",
   "id": "09eb7c17-5286-4121-869e-2f597d956fcd",
   "metadata": {},
   "source": [
    "### Logistic Regression"
   ]
  },
  {
   "cell_type": "code",
   "execution_count": 9,
   "id": "362bc350-c65f-4b53-91de-c616d5c9beef",
   "metadata": {},
   "outputs": [
    {
     "name": "stdout",
     "output_type": "stream",
     "text": [
      "Accuracy:\n",
      "1.0\n",
      "F1 score:\n",
      "1.0\n",
      "Confusion Matrix:\n",
      "[[1 0]\n",
      " [0 1]]\n"
     ]
    }
   ],
   "source": [
    "import numpy as np\n",
    "from sklearn.model_selection import train_test_split\n",
    "from sklearn.linear_model import LogisticRegression\n",
    "from sklearn.metrics import accuracy_score, f1_score, confusion_matrix\n",
    "\n",
    "## Note: Change this to fit the algorithm below\n",
    "# X are the features\n",
    "X = np.array([[10,2], [2,3], [4,6], [5,1], [12,4], [14,5]])\n",
    "# y are the outputs\n",
    "y = np.array([1, 0, 0, 0, 1, 1])\n",
    "# test_size is the size of the test (0 < test_size < 1)\n",
    "test_size = 0.2\n",
    "# seed for random split\n",
    "seed = 40\n",
    "## End of Note\n",
    "\n",
    "X_train, X_test, y_train, y_test = train_test_split(X, y, test_size=test_size, random_state=seed)\n",
    "model = LogisticRegression()\n",
    "\n",
    "model.fit(X_train, y_train)\n",
    "y_pred = model.predict(X_test)\n",
    "\n",
    "evaluation_metrics = [(\"Accuracy\", accuracy_score), (\"F1 score\", f1_score), (\"Confusion Matrix\", confusion_matrix)]\n",
    "\n",
    "for evaluation_metric_name, evaluation_metric_func in evaluation_metrics:\n",
    "    print(f\"{evaluation_metric_name}:\\n{evaluation_metric_func(y_test, y_pred)}\")\n",
    "    "
   ]
  },
  {
   "cell_type": "code",
   "execution_count": null,
   "id": "546f2c83-ec5c-4b3e-b92f-7f4456c0357d",
   "metadata": {},
   "outputs": [],
   "source": []
  }
 ],
 "metadata": {
  "kernelspec": {
   "display_name": "Python 3 (ipykernel)",
   "language": "python",
   "name": "python3"
  },
  "language_info": {
   "codemirror_mode": {
    "name": "ipython",
    "version": 3
   },
   "file_extension": ".py",
   "mimetype": "text/x-python",
   "name": "python",
   "nbconvert_exporter": "python",
   "pygments_lexer": "ipython3",
   "version": "3.11.4"
  }
 },
 "nbformat": 4,
 "nbformat_minor": 5
}
