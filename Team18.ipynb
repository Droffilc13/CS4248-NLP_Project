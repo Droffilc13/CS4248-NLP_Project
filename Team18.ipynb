{
 "cells": [
  {
   "cell_type": "markdown",
   "id": "2c3d2f91-1f6f-4b8a-be8c-eb673e74ef6d",
   "metadata": {},
   "source": [
    "# CS4248 NLP Project Team 18"
   ]
  },
  {
   "cell_type": "markdown",
   "id": "37e0af41-f2e7-40e9-850a-a08f76908f4e",
   "metadata": {},
   "source": [
    "## Installing necessary libraries\n",
    "\n",
    "*Note*: Put libraries that need to be installed with `!pip install LIBRARY` so that we can ensure consistency in packages"
   ]
  },
  {
   "cell_type": "code",
   "execution_count": 1,
   "id": "acd8a95b-3cc9-48bc-b669-479e3a06b97f",
   "metadata": {},
   "outputs": [
    {
     "name": "stdout",
     "output_type": "stream",
     "text": [
      "Requirement already satisfied: scikit-learn in c:\\users\\user\\documents\\github\\cs4248-nlp_project\\nlpenv\\lib\\site-packages (1.4.1.post1)\n",
      "Requirement already satisfied: numpy<2.0,>=1.19.5 in c:\\users\\user\\documents\\github\\cs4248-nlp_project\\nlpenv\\lib\\site-packages (from scikit-learn) (1.26.4)\n",
      "Requirement already satisfied: scipy>=1.6.0 in c:\\users\\user\\documents\\github\\cs4248-nlp_project\\nlpenv\\lib\\site-packages (from scikit-learn) (1.13.0)\n",
      "Requirement already satisfied: joblib>=1.2.0 in c:\\users\\user\\documents\\github\\cs4248-nlp_project\\nlpenv\\lib\\site-packages (from scikit-learn) (1.3.2)\n",
      "Requirement already satisfied: threadpoolctl>=2.0.0 in c:\\users\\user\\documents\\github\\cs4248-nlp_project\\nlpenv\\lib\\site-packages (from scikit-learn) (3.4.0)\n"
     ]
    },
    {
     "name": "stderr",
     "output_type": "stream",
     "text": [
      "\n",
      "[notice] A new release of pip is available: 23.1.2 -> 24.0\n",
      "[notice] To update, run: python.exe -m pip install --upgrade pip\n"
     ]
    },
    {
     "name": "stdout",
     "output_type": "stream",
     "text": [
      "Requirement already satisfied: pandas in c:\\users\\user\\documents\\github\\cs4248-nlp_project\\nlpenv\\lib\\site-packages (2.2.1)\n",
      "Requirement already satisfied: numpy<2,>=1.23.2 in c:\\users\\user\\documents\\github\\cs4248-nlp_project\\nlpenv\\lib\\site-packages (from pandas) (1.26.4)\n",
      "Requirement already satisfied: python-dateutil>=2.8.2 in c:\\users\\user\\documents\\github\\cs4248-nlp_project\\nlpenv\\lib\\site-packages (from pandas) (2.9.0.post0)\n",
      "Requirement already satisfied: pytz>=2020.1 in c:\\users\\user\\documents\\github\\cs4248-nlp_project\\nlpenv\\lib\\site-packages (from pandas) (2024.1)\n",
      "Requirement already satisfied: tzdata>=2022.7 in c:\\users\\user\\documents\\github\\cs4248-nlp_project\\nlpenv\\lib\\site-packages (from pandas) (2024.1)\n",
      "Requirement already satisfied: six>=1.5 in c:\\users\\user\\documents\\github\\cs4248-nlp_project\\nlpenv\\lib\\site-packages (from python-dateutil>=2.8.2->pandas) (1.16.0)\n"
     ]
    },
    {
     "name": "stderr",
     "output_type": "stream",
     "text": [
      "\n",
      "[notice] A new release of pip is available: 23.1.2 -> 24.0\n",
      "[notice] To update, run: python.exe -m pip install --upgrade pip\n"
     ]
    },
    {
     "name": "stdout",
     "output_type": "stream",
     "text": [
      "Requirement already satisfied: matplotlib in c:\\users\\user\\documents\\github\\cs4248-nlp_project\\nlpenv\\lib\\site-packages (3.8.4)\n",
      "Requirement already satisfied: contourpy>=1.0.1 in c:\\users\\user\\documents\\github\\cs4248-nlp_project\\nlpenv\\lib\\site-packages (from matplotlib) (1.2.1)\n",
      "Requirement already satisfied: cycler>=0.10 in c:\\users\\user\\documents\\github\\cs4248-nlp_project\\nlpenv\\lib\\site-packages (from matplotlib) (0.12.1)\n",
      "Requirement already satisfied: fonttools>=4.22.0 in c:\\users\\user\\documents\\github\\cs4248-nlp_project\\nlpenv\\lib\\site-packages (from matplotlib) (4.51.0)\n",
      "Requirement already satisfied: kiwisolver>=1.3.1 in c:\\users\\user\\documents\\github\\cs4248-nlp_project\\nlpenv\\lib\\site-packages (from matplotlib) (1.4.5)\n",
      "Requirement already satisfied: numpy>=1.21 in c:\\users\\user\\documents\\github\\cs4248-nlp_project\\nlpenv\\lib\\site-packages (from matplotlib) (1.26.4)\n",
      "Requirement already satisfied: packaging>=20.0 in c:\\users\\user\\documents\\github\\cs4248-nlp_project\\nlpenv\\lib\\site-packages (from matplotlib) (24.0)\n",
      "Requirement already satisfied: pillow>=8 in c:\\users\\user\\documents\\github\\cs4248-nlp_project\\nlpenv\\lib\\site-packages (from matplotlib) (10.3.0)\n",
      "Requirement already satisfied: pyparsing>=2.3.1 in c:\\users\\user\\documents\\github\\cs4248-nlp_project\\nlpenv\\lib\\site-packages (from matplotlib) (3.1.2)\n",
      "Requirement already satisfied: python-dateutil>=2.7 in c:\\users\\user\\documents\\github\\cs4248-nlp_project\\nlpenv\\lib\\site-packages (from matplotlib) (2.9.0.post0)\n",
      "Requirement already satisfied: six>=1.5 in c:\\users\\user\\documents\\github\\cs4248-nlp_project\\nlpenv\\lib\\site-packages (from python-dateutil>=2.7->matplotlib) (1.16.0)\n"
     ]
    },
    {
     "name": "stderr",
     "output_type": "stream",
     "text": [
      "\n",
      "[notice] A new release of pip is available: 23.1.2 -> 24.0\n",
      "[notice] To update, run: python.exe -m pip install --upgrade pip\n"
     ]
    },
    {
     "name": "stdout",
     "output_type": "stream",
     "text": [
      "Requirement already satisfied: tensorflow in c:\\users\\user\\documents\\github\\cs4248-nlp_project\\nlpenv\\lib\\site-packages (2.16.1)\n",
      "Requirement already satisfied: tensorflow-intel==2.16.1 in c:\\users\\user\\documents\\github\\cs4248-nlp_project\\nlpenv\\lib\\site-packages (from tensorflow) (2.16.1)\n",
      "Requirement already satisfied: absl-py>=1.0.0 in c:\\users\\user\\documents\\github\\cs4248-nlp_project\\nlpenv\\lib\\site-packages (from tensorflow-intel==2.16.1->tensorflow) (2.1.0)\n",
      "Requirement already satisfied: astunparse>=1.6.0 in c:\\users\\user\\documents\\github\\cs4248-nlp_project\\nlpenv\\lib\\site-packages (from tensorflow-intel==2.16.1->tensorflow) (1.6.3)\n",
      "Requirement already satisfied: flatbuffers>=23.5.26 in c:\\users\\user\\documents\\github\\cs4248-nlp_project\\nlpenv\\lib\\site-packages (from tensorflow-intel==2.16.1->tensorflow) (24.3.25)\n",
      "Requirement already satisfied: gast!=0.5.0,!=0.5.1,!=0.5.2,>=0.2.1 in c:\\users\\user\\documents\\github\\cs4248-nlp_project\\nlpenv\\lib\\site-packages (from tensorflow-intel==2.16.1->tensorflow) (0.5.4)\n",
      "Requirement already satisfied: google-pasta>=0.1.1 in c:\\users\\user\\documents\\github\\cs4248-nlp_project\\nlpenv\\lib\\site-packages (from tensorflow-intel==2.16.1->tensorflow) (0.2.0)\n",
      "Requirement already satisfied: h5py>=3.10.0 in c:\\users\\user\\documents\\github\\cs4248-nlp_project\\nlpenv\\lib\\site-packages (from tensorflow-intel==2.16.1->tensorflow) (3.10.0)\n",
      "Requirement already satisfied: libclang>=13.0.0 in c:\\users\\user\\documents\\github\\cs4248-nlp_project\\nlpenv\\lib\\site-packages (from tensorflow-intel==2.16.1->tensorflow) (18.1.1)\n",
      "Requirement already satisfied: ml-dtypes~=0.3.1 in c:\\users\\user\\documents\\github\\cs4248-nlp_project\\nlpenv\\lib\\site-packages (from tensorflow-intel==2.16.1->tensorflow) (0.3.2)\n",
      "Requirement already satisfied: opt-einsum>=2.3.2 in c:\\users\\user\\documents\\github\\cs4248-nlp_project\\nlpenv\\lib\\site-packages (from tensorflow-intel==2.16.1->tensorflow) (3.3.0)\n",
      "Requirement already satisfied: packaging in c:\\users\\user\\documents\\github\\cs4248-nlp_project\\nlpenv\\lib\\site-packages (from tensorflow-intel==2.16.1->tensorflow) (24.0)\n",
      "Requirement already satisfied: protobuf!=4.21.0,!=4.21.1,!=4.21.2,!=4.21.3,!=4.21.4,!=4.21.5,<5.0.0dev,>=3.20.3 in c:\\users\\user\\documents\\github\\cs4248-nlp_project\\nlpenv\\lib\\site-packages (from tensorflow-intel==2.16.1->tensorflow) (4.25.3)\n",
      "Requirement already satisfied: requests<3,>=2.21.0 in c:\\users\\user\\documents\\github\\cs4248-nlp_project\\nlpenv\\lib\\site-packages (from tensorflow-intel==2.16.1->tensorflow) (2.31.0)\n",
      "Requirement already satisfied: setuptools in c:\\users\\user\\documents\\github\\cs4248-nlp_project\\nlpenv\\lib\\site-packages (from tensorflow-intel==2.16.1->tensorflow) (65.5.0)\n",
      "Requirement already satisfied: six>=1.12.0 in c:\\users\\user\\documents\\github\\cs4248-nlp_project\\nlpenv\\lib\\site-packages (from tensorflow-intel==2.16.1->tensorflow) (1.16.0)\n",
      "Requirement already satisfied: termcolor>=1.1.0 in c:\\users\\user\\documents\\github\\cs4248-nlp_project\\nlpenv\\lib\\site-packages (from tensorflow-intel==2.16.1->tensorflow) (2.4.0)\n",
      "Requirement already satisfied: typing-extensions>=3.6.6 in c:\\users\\user\\documents\\github\\cs4248-nlp_project\\nlpenv\\lib\\site-packages (from tensorflow-intel==2.16.1->tensorflow) (4.11.0)\n",
      "Requirement already satisfied: wrapt>=1.11.0 in c:\\users\\user\\documents\\github\\cs4248-nlp_project\\nlpenv\\lib\\site-packages (from tensorflow-intel==2.16.1->tensorflow) (1.16.0)\n",
      "Requirement already satisfied: grpcio<2.0,>=1.24.3 in c:\\users\\user\\documents\\github\\cs4248-nlp_project\\nlpenv\\lib\\site-packages (from tensorflow-intel==2.16.1->tensorflow) (1.62.1)\n",
      "Requirement already satisfied: tensorboard<2.17,>=2.16 in c:\\users\\user\\documents\\github\\cs4248-nlp_project\\nlpenv\\lib\\site-packages (from tensorflow-intel==2.16.1->tensorflow) (2.16.2)\n",
      "Requirement already satisfied: keras>=3.0.0 in c:\\users\\user\\documents\\github\\cs4248-nlp_project\\nlpenv\\lib\\site-packages (from tensorflow-intel==2.16.1->tensorflow) (3.2.0)\n",
      "Requirement already satisfied: tensorflow-io-gcs-filesystem>=0.23.1 in c:\\users\\user\\documents\\github\\cs4248-nlp_project\\nlpenv\\lib\\site-packages (from tensorflow-intel==2.16.1->tensorflow) (0.31.0)\n",
      "Requirement already satisfied: numpy<2.0.0,>=1.23.5 in c:\\users\\user\\documents\\github\\cs4248-nlp_project\\nlpenv\\lib\\site-packages (from tensorflow-intel==2.16.1->tensorflow) (1.26.4)\n",
      "Requirement already satisfied: wheel<1.0,>=0.23.0 in c:\\users\\user\\documents\\github\\cs4248-nlp_project\\nlpenv\\lib\\site-packages (from astunparse>=1.6.0->tensorflow-intel==2.16.1->tensorflow) (0.43.0)\n",
      "Requirement already satisfied: rich in c:\\users\\user\\documents\\github\\cs4248-nlp_project\\nlpenv\\lib\\site-packages (from keras>=3.0.0->tensorflow-intel==2.16.1->tensorflow) (13.7.1)\n",
      "Requirement already satisfied: namex in c:\\users\\user\\documents\\github\\cs4248-nlp_project\\nlpenv\\lib\\site-packages (from keras>=3.0.0->tensorflow-intel==2.16.1->tensorflow) (0.0.7)\n",
      "Requirement already satisfied: optree in c:\\users\\user\\documents\\github\\cs4248-nlp_project\\nlpenv\\lib\\site-packages (from keras>=3.0.0->tensorflow-intel==2.16.1->tensorflow) (0.11.0)\n",
      "Requirement already satisfied: charset-normalizer<4,>=2 in c:\\users\\user\\documents\\github\\cs4248-nlp_project\\nlpenv\\lib\\site-packages (from requests<3,>=2.21.0->tensorflow-intel==2.16.1->tensorflow) (3.3.2)\n",
      "Requirement already satisfied: idna<4,>=2.5 in c:\\users\\user\\documents\\github\\cs4248-nlp_project\\nlpenv\\lib\\site-packages (from requests<3,>=2.21.0->tensorflow-intel==2.16.1->tensorflow) (3.6)\n",
      "Requirement already satisfied: urllib3<3,>=1.21.1 in c:\\users\\user\\documents\\github\\cs4248-nlp_project\\nlpenv\\lib\\site-packages (from requests<3,>=2.21.0->tensorflow-intel==2.16.1->tensorflow) (2.2.1)\n",
      "Requirement already satisfied: certifi>=2017.4.17 in c:\\users\\user\\documents\\github\\cs4248-nlp_project\\nlpenv\\lib\\site-packages (from requests<3,>=2.21.0->tensorflow-intel==2.16.1->tensorflow) (2024.2.2)\n",
      "Requirement already satisfied: markdown>=2.6.8 in c:\\users\\user\\documents\\github\\cs4248-nlp_project\\nlpenv\\lib\\site-packages (from tensorboard<2.17,>=2.16->tensorflow-intel==2.16.1->tensorflow) (3.6)\n",
      "Requirement already satisfied: tensorboard-data-server<0.8.0,>=0.7.0 in c:\\users\\user\\documents\\github\\cs4248-nlp_project\\nlpenv\\lib\\site-packages (from tensorboard<2.17,>=2.16->tensorflow-intel==2.16.1->tensorflow) (0.7.2)\n",
      "Requirement already satisfied: werkzeug>=1.0.1 in c:\\users\\user\\documents\\github\\cs4248-nlp_project\\nlpenv\\lib\\site-packages (from tensorboard<2.17,>=2.16->tensorflow-intel==2.16.1->tensorflow) (3.0.2)\n",
      "Requirement already satisfied: MarkupSafe>=2.1.1 in c:\\users\\user\\documents\\github\\cs4248-nlp_project\\nlpenv\\lib\\site-packages (from werkzeug>=1.0.1->tensorboard<2.17,>=2.16->tensorflow-intel==2.16.1->tensorflow) (2.1.5)\n",
      "Requirement already satisfied: markdown-it-py>=2.2.0 in c:\\users\\user\\documents\\github\\cs4248-nlp_project\\nlpenv\\lib\\site-packages (from rich->keras>=3.0.0->tensorflow-intel==2.16.1->tensorflow) (3.0.0)\n",
      "Requirement already satisfied: pygments<3.0.0,>=2.13.0 in c:\\users\\user\\documents\\github\\cs4248-nlp_project\\nlpenv\\lib\\site-packages (from rich->keras>=3.0.0->tensorflow-intel==2.16.1->tensorflow) (2.17.2)\n",
      "Requirement already satisfied: mdurl~=0.1 in c:\\users\\user\\documents\\github\\cs4248-nlp_project\\nlpenv\\lib\\site-packages (from markdown-it-py>=2.2.0->rich->keras>=3.0.0->tensorflow-intel==2.16.1->tensorflow) (0.1.2)\n"
     ]
    },
    {
     "name": "stderr",
     "output_type": "stream",
     "text": [
      "\n",
      "[notice] A new release of pip is available: 23.1.2 -> 24.0\n",
      "[notice] To update, run: python.exe -m pip install --upgrade pip\n"
     ]
    },
    {
     "name": "stdout",
     "output_type": "stream",
     "text": [
      "Requirement already satisfied: shap in c:\\users\\user\\documents\\github\\cs4248-nlp_project\\nlpenv\\lib\\site-packages (0.45.0)\n",
      "Requirement already satisfied: numpy in c:\\users\\user\\documents\\github\\cs4248-nlp_project\\nlpenv\\lib\\site-packages (from shap) (1.26.4)\n",
      "Requirement already satisfied: scipy in c:\\users\\user\\documents\\github\\cs4248-nlp_project\\nlpenv\\lib\\site-packages (from shap) (1.13.0)\n",
      "Requirement already satisfied: scikit-learn in c:\\users\\user\\documents\\github\\cs4248-nlp_project\\nlpenv\\lib\\site-packages (from shap) (1.4.1.post1)\n",
      "Requirement already satisfied: pandas in c:\\users\\user\\documents\\github\\cs4248-nlp_project\\nlpenv\\lib\\site-packages (from shap) (2.2.1)\n",
      "Requirement already satisfied: tqdm>=4.27.0 in c:\\users\\user\\documents\\github\\cs4248-nlp_project\\nlpenv\\lib\\site-packages (from shap) (4.66.2)\n",
      "Requirement already satisfied: packaging>20.9 in c:\\users\\user\\documents\\github\\cs4248-nlp_project\\nlpenv\\lib\\site-packages (from shap) (24.0)\n",
      "Requirement already satisfied: slicer==0.0.7 in c:\\users\\user\\documents\\github\\cs4248-nlp_project\\nlpenv\\lib\\site-packages (from shap) (0.0.7)\n",
      "Requirement already satisfied: numba in c:\\users\\user\\documents\\github\\cs4248-nlp_project\\nlpenv\\lib\\site-packages (from shap) (0.59.1)\n",
      "Requirement already satisfied: cloudpickle in c:\\users\\user\\documents\\github\\cs4248-nlp_project\\nlpenv\\lib\\site-packages (from shap) (3.0.0)\n",
      "Requirement already satisfied: colorama in c:\\users\\user\\documents\\github\\cs4248-nlp_project\\nlpenv\\lib\\site-packages (from tqdm>=4.27.0->shap) (0.4.6)\n",
      "Requirement already satisfied: llvmlite<0.43,>=0.42.0dev0 in c:\\users\\user\\documents\\github\\cs4248-nlp_project\\nlpenv\\lib\\site-packages (from numba->shap) (0.42.0)\n",
      "Requirement already satisfied: python-dateutil>=2.8.2 in c:\\users\\user\\documents\\github\\cs4248-nlp_project\\nlpenv\\lib\\site-packages (from pandas->shap) (2.9.0.post0)\n",
      "Requirement already satisfied: pytz>=2020.1 in c:\\users\\user\\documents\\github\\cs4248-nlp_project\\nlpenv\\lib\\site-packages (from pandas->shap) (2024.1)\n",
      "Requirement already satisfied: tzdata>=2022.7 in c:\\users\\user\\documents\\github\\cs4248-nlp_project\\nlpenv\\lib\\site-packages (from pandas->shap) (2024.1)\n",
      "Requirement already satisfied: joblib>=1.2.0 in c:\\users\\user\\documents\\github\\cs4248-nlp_project\\nlpenv\\lib\\site-packages (from scikit-learn->shap) (1.3.2)\n",
      "Requirement already satisfied: threadpoolctl>=2.0.0 in c:\\users\\user\\documents\\github\\cs4248-nlp_project\\nlpenv\\lib\\site-packages (from scikit-learn->shap) (3.4.0)\n",
      "Requirement already satisfied: six>=1.5 in c:\\users\\user\\documents\\github\\cs4248-nlp_project\\nlpenv\\lib\\site-packages (from python-dateutil>=2.8.2->pandas->shap) (1.16.0)\n"
     ]
    },
    {
     "name": "stderr",
     "output_type": "stream",
     "text": [
      "\n",
      "[notice] A new release of pip is available: 23.1.2 -> 24.0\n",
      "[notice] To update, run: python.exe -m pip install --upgrade pip\n"
     ]
    },
    {
     "name": "stdout",
     "output_type": "stream",
     "text": [
      "Collecting nltk\n",
      "  Using cached nltk-3.8.1-py3-none-any.whl (1.5 MB)\n",
      "Collecting click (from nltk)\n",
      "  Using cached click-8.1.7-py3-none-any.whl (97 kB)\n",
      "Requirement already satisfied: joblib in c:\\users\\user\\documents\\github\\cs4248-nlp_project\\nlpenv\\lib\\site-packages (from nltk) (1.3.2)\n",
      "Collecting regex>=2021.8.3 (from nltk)\n",
      "  Using cached regex-2023.12.25-cp311-cp311-win_amd64.whl (269 kB)\n",
      "Requirement already satisfied: tqdm in c:\\users\\user\\documents\\github\\cs4248-nlp_project\\nlpenv\\lib\\site-packages (from nltk) (4.66.2)\n",
      "Requirement already satisfied: colorama in c:\\users\\user\\documents\\github\\cs4248-nlp_project\\nlpenv\\lib\\site-packages (from click->nltk) (0.4.6)\n",
      "Installing collected packages: regex, click, nltk\n",
      "Successfully installed click-8.1.7 nltk-3.8.1 regex-2023.12.25\n"
     ]
    },
    {
     "name": "stderr",
     "output_type": "stream",
     "text": [
      "\n",
      "[notice] A new release of pip is available: 23.1.2 -> 24.0\n",
      "[notice] To update, run: python.exe -m pip install --upgrade pip\n"
     ]
    },
    {
     "name": "stdout",
     "output_type": "stream",
     "text": [
      "Collecting textstat\n",
      "  Downloading textstat-0.7.3-py3-none-any.whl (105 kB)\n",
      "                                              0.0/105.1 kB ? eta -:--:--\n",
      "     -------------------------------------- 105.1/105.1 kB 5.9 MB/s eta 0:00:00\n",
      "Collecting pyphen (from textstat)\n",
      "  Downloading pyphen-0.14.0-py3-none-any.whl (2.0 MB)\n",
      "                                              0.0/2.0 MB ? eta -:--:--\n",
      "     -----------------------                  1.2/2.0 MB 24.4 MB/s eta 0:00:01\n",
      "     ---------------------------------------- 2.0/2.0 MB 25.3 MB/s eta 0:00:00\n",
      "Installing collected packages: pyphen, textstat\n",
      "Successfully installed pyphen-0.14.0 textstat-0.7.3\n"
     ]
    },
    {
     "name": "stderr",
     "output_type": "stream",
     "text": [
      "\n",
      "[notice] A new release of pip is available: 23.1.2 -> 24.0\n",
      "[notice] To update, run: python.exe -m pip install --upgrade pip\n"
     ]
    },
    {
     "name": "stdout",
     "output_type": "stream",
     "text": [
      "Collecting textblob\n",
      "  Downloading textblob-0.18.0.post0-py3-none-any.whl (626 kB)\n",
      "                                              0.0/626.3 kB ? eta -:--:--\n",
      "     --------------                         245.8/626.3 kB 7.6 MB/s eta 0:00:01\n",
      "     -------------------------------------- 626.3/626.3 kB 9.8 MB/s eta 0:00:00\n",
      "Requirement already satisfied: nltk>=3.8 in c:\\users\\user\\documents\\github\\cs4248-nlp_project\\nlpenv\\lib\\site-packages (from textblob) (3.8.1)\n",
      "Requirement already satisfied: click in c:\\users\\user\\documents\\github\\cs4248-nlp_project\\nlpenv\\lib\\site-packages (from nltk>=3.8->textblob) (8.1.7)\n",
      "Requirement already satisfied: joblib in c:\\users\\user\\documents\\github\\cs4248-nlp_project\\nlpenv\\lib\\site-packages (from nltk>=3.8->textblob) (1.3.2)\n",
      "Requirement already satisfied: regex>=2021.8.3 in c:\\users\\user\\documents\\github\\cs4248-nlp_project\\nlpenv\\lib\\site-packages (from nltk>=3.8->textblob) (2023.12.25)\n",
      "Requirement already satisfied: tqdm in c:\\users\\user\\documents\\github\\cs4248-nlp_project\\nlpenv\\lib\\site-packages (from nltk>=3.8->textblob) (4.66.2)\n",
      "Requirement already satisfied: colorama in c:\\users\\user\\documents\\github\\cs4248-nlp_project\\nlpenv\\lib\\site-packages (from click->nltk>=3.8->textblob) (0.4.6)\n",
      "Installing collected packages: textblob\n",
      "Successfully installed textblob-0.18.0.post0\n"
     ]
    },
    {
     "name": "stderr",
     "output_type": "stream",
     "text": [
      "\n",
      "[notice] A new release of pip is available: 23.1.2 -> 24.0\n",
      "[notice] To update, run: python.exe -m pip install --upgrade pip\n"
     ]
    }
   ],
   "source": [
    "!pip install scikit-learn\n",
    "!pip install pandas\n",
    "!pip install matplotlib\n",
    "!pip install tensorflow\n",
    "!pip install shap\n",
    "!pip install nltk\n",
    "!pip install textstat\n",
    "!pip install textblob"
   ]
  },
  {
   "cell_type": "markdown",
   "id": "aa46d2bc-9a4b-47b1-829e-c7db818d13c0",
   "metadata": {},
   "source": [
    "## Reading Data"
   ]
  },
  {
   "cell_type": "code",
   "execution_count": 2,
   "id": "783a07b5-7b7b-4b4d-a60c-88bd9518a7aa",
   "metadata": {},
   "outputs": [
    {
     "data": {
      "text/html": [
       "<div>\n",
       "<style scoped>\n",
       "    .dataframe tbody tr th:only-of-type {\n",
       "        vertical-align: middle;\n",
       "    }\n",
       "\n",
       "    .dataframe tbody tr th {\n",
       "        vertical-align: top;\n",
       "    }\n",
       "\n",
       "    .dataframe thead th {\n",
       "        text-align: right;\n",
       "    }\n",
       "</style>\n",
       "<table border=\"1\" class=\"dataframe\">\n",
       "  <thead>\n",
       "    <tr style=\"text-align: right;\">\n",
       "      <th></th>\n",
       "      <th>0</th>\n",
       "      <th>1</th>\n",
       "    </tr>\n",
       "  </thead>\n",
       "  <tbody>\n",
       "    <tr>\n",
       "      <th>0</th>\n",
       "      <td>1</td>\n",
       "      <td>A little less than a decade ago, hockey fans w...</td>\n",
       "    </tr>\n",
       "    <tr>\n",
       "      <th>1</th>\n",
       "      <td>1</td>\n",
       "      <td>The writers of the HBO series The Sopranos too...</td>\n",
       "    </tr>\n",
       "    <tr>\n",
       "      <th>2</th>\n",
       "      <td>1</td>\n",
       "      <td>Despite claims from the TV news outlet to offe...</td>\n",
       "    </tr>\n",
       "    <tr>\n",
       "      <th>3</th>\n",
       "      <td>1</td>\n",
       "      <td>After receiving 'subpar' service and experienc...</td>\n",
       "    </tr>\n",
       "    <tr>\n",
       "      <th>4</th>\n",
       "      <td>1</td>\n",
       "      <td>After watching his beloved Seattle Mariners pr...</td>\n",
       "    </tr>\n",
       "  </tbody>\n",
       "</table>\n",
       "</div>"
      ],
      "text/plain": [
       "   0                                                  1\n",
       "0  1  A little less than a decade ago, hockey fans w...\n",
       "1  1  The writers of the HBO series The Sopranos too...\n",
       "2  1  Despite claims from the TV news outlet to offe...\n",
       "3  1  After receiving 'subpar' service and experienc...\n",
       "4  1  After watching his beloved Seattle Mariners pr..."
      ]
     },
     "execution_count": 2,
     "metadata": {},
     "output_type": "execute_result"
    }
   ],
   "source": [
    "import pandas as pd\n",
    "\n",
    "DATA_FILEPATH = \"raw_data/fulltrain.csv\"\n",
    "\n",
    "df = pd.read_csv(DATA_FILEPATH, header=None)\n",
    "df.head()"
   ]
  },
  {
   "cell_type": "code",
   "execution_count": 3,
   "id": "5b9bb89a-3e1d-434f-8904-69d9220a637c",
   "metadata": {},
   "outputs": [
    {
     "name": "stdout",
     "output_type": "stream",
     "text": [
      "0    A little less than a decade ago, hockey fans w...\n",
      "1    The writers of the HBO series The Sopranos too...\n",
      "2    Despite claims from the TV news outlet to offe...\n",
      "3    After receiving 'subpar' service and experienc...\n",
      "4    After watching his beloved Seattle Mariners pr...\n",
      "Name: 1, dtype: object\n",
      "0    1\n",
      "1    1\n",
      "2    1\n",
      "3    1\n",
      "4    1\n",
      "Name: 0, dtype: int64\n"
     ]
    }
   ],
   "source": [
    "X = df[1]\n",
    "y = df[0]\n",
    "\n",
    "print(X.head())\n",
    "print(y.head())"
   ]
  },
  {
   "cell_type": "markdown",
   "id": "92acb502-671c-441a-b82c-29a5edd337e4",
   "metadata": {},
   "source": [
    "## Data Analysis"
   ]
  },
  {
   "cell_type": "code",
   "execution_count": 4,
   "id": "48003e8a-7bfb-42fa-a0d2-e5244930d200",
   "metadata": {},
   "outputs": [
    {
     "data": {
      "image/png": "[encoded data removed]",
      "text/plain": [
       "<Figure size 640x480 with 1 Axes>"
      ]
     },
     "metadata": {},
     "output_type": "display_data"
    }
   ],
   "source": [
    "import matplotlib.pyplot as plt\n",
    "\n",
    "value_counts = df[0].value_counts()\n",
    "value_counts.plot(kind='bar')\n",
    "plt.xlabel('Classification')\n",
    "plt.ylabel('Count')\n",
    "plt.title('Breakdown of Text Classification')\n",
    "plt.show()"
   ]
  },
  {
   "cell_type": "markdown",
   "id": "219d2eaf-d02d-43e8-b295-a361b2ecada7",
   "metadata": {},
   "source": [
    "## Preprocessing"
   ]
  },
  {
   "cell_type": "markdown",
   "id": "b3d37877-303a-494d-b7b0-b53f7b2c22d7",
   "metadata": {},
   "source": [
    "## Feature Engineering"
   ]
  },
  {
   "cell_type": "code",
   "execution_count": 6,
   "id": "de5f1ebe-18d2-4264-8658-90e5c8e9b8d5",
   "metadata": {},
   "outputs": [
    {
     "name": "stdout",
     "output_type": "stream",
     "text": [
      "             1         1         1         1\n",
      "0    -0.506708  1.674778  0.080846  1.070592\n",
      "1    -0.617846  0.338287  0.520772  1.017277\n",
      "2    -0.692544  0.110044 -1.382456 -0.675751\n",
      "3    -0.759955 -1.234901 -0.050814  0.306442\n",
      "4    -0.657928 -0.831671 -0.286110 -1.151780\n",
      "...        ...       ...       ...       ...\n",
      "2995  0.181978 -0.530728 -0.507544 -0.271581\n",
      "2996 -0.299009  0.209794  0.362274 -0.797663\n",
      "2997 -0.829188  0.407605 -1.679466  0.569847\n",
      "2998  0.242101 -1.520627 -0.208634  0.119512\n",
      "2999 -0.142324 -1.020183 -1.343151  0.717566\n",
      "\n",
      "[3000 rows x 4 columns]\n"
     ]
    }
   ],
   "source": [
    "import pandas as pd\n",
    "import textstat\n",
    "from nltk.tokenize import word_tokenize\n",
    "from textblob import TextBlob\n",
    "\n",
    "def normalize(data):\n",
    "    return (data-data.mean())/data.std()\n",
    "\n",
    "def count_tokens(sentence):\n",
    "    return len(word_tokenize(sentence))\n",
    "\n",
    "def get_polarity(sentence):\n",
    "    return TextBlob(sentence).sentiment.polarity\n",
    "\n",
    "def get_subjectivity(sentence):\n",
    "    return TextBlob(sentence).sentiment.subjectivity\n",
    "\n",
    "def add_features(data):\n",
    "    \n",
    "    # Add features\n",
    "    token_count = data.apply(lambda x: count_tokens(x))\n",
    "    readability = data.apply(lambda x: textstat.flesch_reading_ease(x))\n",
    "    polarity = data.apply(lambda x: get_polarity(x))\n",
    "    subjectivity = data.apply(lambda x: get_subjectivity(x))\n",
    "    \n",
    "    # Normalize features\n",
    "    token_count = normalize(token_count)\n",
    "    readability = normalize(readability)\n",
    "    polarity = normalize(polarity)\n",
    "    subjectivity = normalize(subjectivity)\n",
    "    \n",
    "    return pd.concat([token_count, readability, polarity, subjectivity], axis=1)\n",
    "\n",
    "\n",
    "train = pd.read_csv('balancedtest.csv', header=None)\n",
    "\n",
    "x_train = train[train.columns[1]]\n",
    "y_train = train[train.columns[0]]\n",
    "\n",
    "train_features = add_features(x_train)\n",
    "\n",
    "print(train_features)"
   ]
  },
  {
   "cell_type": "markdown",
   "id": "91081f05-7bb2-45c8-a463-9fc9f52c9a9f",
   "metadata": {},
   "source": [
    "## Model Training & Evaluation"
   ]
  },
  {
   "cell_type": "code",
   "execution_count": null,
   "id": "9ada1293-7ce1-43fb-a37f-b4e815a0014d",
   "metadata": {},
   "outputs": [],
   "source": [
    "#TODO: remove this, \n",
    "from sklearn.feature_extraction.text import TfidfVectorizer\n",
    "\n",
    "max_features = 10000\n",
    "\n",
    "vectorizer = TfidfVectorizer(max_features=max_features)\n",
    "tfidf_matrix = vectorizer.fit_transform(X)\n",
    "tfidf_df = pd.DataFrame(tfidf_matrix.toarray(), columns=vectorizer.get_feature_names_out())"
   ]
  },
  {
   "cell_type": "markdown",
   "id": "6fc08365-4dc1-443c-af24-b0439fda9f21",
   "metadata": {},
   "source": [
    "## Settings for train test split"
   ]
  },
  {
   "cell_type": "code",
   "execution_count": null,
   "id": "5ad85677-cb12-40ac-ad2d-06a66df162fa",
   "metadata": {},
   "outputs": [],
   "source": [
    "## Settings\n",
    "\n",
    "import numpy as np\n",
    "from sklearn.model_selection import train_test_split\n",
    "from sklearn.linear_model import LogisticRegression\n",
    "from sklearn.metrics import accuracy_score, f1_score, confusion_matrix\n",
    "\n",
    "## Note: Change this to fit the algorithm below\n",
    "# X are the features\n",
    "X = tfidf_df\n",
    "# y are the outputs\n",
    "y = y\n",
    "# test_size is the size of the test (0 < test_size < 1)\n",
    "test_size = 0.2\n",
    "# seed for random split\n",
    "seed = 40\n",
    "## End of Note\n",
    "\n",
    "X_train, X_test, y_train, y_test = train_test_split(X, y, test_size=test_size, random_state=seed)"
   ]
  },
  {
   "cell_type": "markdown",
   "id": "09eb7c17-5286-4121-869e-2f597d956fcd",
   "metadata": {},
   "source": [
    "### Logistic Regression"
   ]
  },
  {
   "cell_type": "code",
   "execution_count": null,
   "id": "362bc350-c65f-4b53-91de-c616d5c9beef",
   "metadata": {},
   "outputs": [],
   "source": [
    "\n",
    "model = LogisticRegression()\n",
    "\n",
    "model.fit(X_train, y_train)\n",
    "y_pred = model.predict(X_test)\n",
    "\n",
    "evaluation_metrics = [(\"Accuracy\", accuracy_score), (\"Confusion Matrix\", confusion_matrix)]\n",
    "\n",
    "for evaluation_metric_name, evaluation_metric_func in evaluation_metrics:\n",
    "    print(f\"{evaluation_metric_name}:\\n{evaluation_metric_func(y_test, y_pred)}\")\n",
    "    "
   ]
  },
  {
   "cell_type": "code",
   "execution_count": null,
   "id": "396a2df9-dfd6-4e9c-b1d3-53d4608b2e35",
   "metadata": {},
   "outputs": [],
   "source": [
    "evaluation_metrics = [(\"Accuracy\", accuracy_score), (\"Confusion Matrix\", confusion_matrix)]\n",
    "\n",
    "for evaluation_metric_name, evaluation_metric_func in evaluation_metrics:\n",
    "    print(f\"{evaluation_metric_name}:\\n{evaluation_metric_func(y_test, y_pred)}\")\n",
    "f1_score(y_test, y_pred, average=\"macro\")"
   ]
  },
  {
   "cell_type": "markdown",
   "id": "536fbc6a-422f-4b00-88c1-05b735d66593",
   "metadata": {},
   "source": [
    "## CNN"
   ]
  },
  {
   "cell_type": "code",
   "execution_count": null,
   "id": "a002416e-7a0c-4262-a948-984db058960a",
   "metadata": {},
   "outputs": [],
   "source": [
    "import tensorflow as tf\n",
    "from tensorflow.keras.models import Sequential\n",
    "from tensorflow.keras.layers import Conv2D, MaxPooling2D, Flatten, Dense\n",
    "model = Sequential([\n",
    "    Conv2D(filters=32, kernel_size=(3, 3), activation='relu', input_shape=(image_height, image_width, num_channels)),\n",
    "    MaxPooling2D(pool_size=(2, 2)),\n",
    "    Conv2D(filters=64, kernel_size=(3, 3), activation='relu'),\n",
    "    MaxPooling2D(pool_size=(2, 2)),\n",
    "    Flatten(),\n",
    "    Dense(units=128, activation='relu'),\n",
    "    Dense(units=num_classes, activation='softmax')\n",
    "])\n",
    "model.compile(optimizer='adam', loss='categorical_crossentropy', metrics=['accuracy'])\n",
    "model.fit(X_train, y_train, epochs=10, batch_size=32)\n",
    "loss, accuracy = model.evaluate(X_test, y_test)\n"
   ]
  },
  {
   "cell_type": "markdown",
   "id": "04b71d99-4b32-4f2e-afdf-9ebecf2b3b70",
   "metadata": {},
   "source": [
    "## RNN"
   ]
  },
  {
   "cell_type": "code",
   "execution_count": null,
   "id": "1db360e1-233c-40ea-ba87-ebb8fc6d06e0",
   "metadata": {},
   "outputs": [],
   "source": [
    "import tensorflow as tf\n",
    "from tensorflow.keras.layers import SimpleRNN, Dense\n",
    "\n",
    "X_train_array = X_train.to_numpy()\n",
    "X_test_array = X_test.to_numpy()\n",
    "y_train_array = y_train.to_numpy()\n",
    "y_test_array = y_test.to_numpy()\n",
    "\n",
    "num_samples, num_features = X_train_array.shape\n",
    "timesteps = 1  # You may need to adjust this depending on your data\n",
    "\n",
    "X_train_reshaped = X_train_array.reshape(num_samples, timesteps, num_features)\n",
    "X_test_reshaped = X_test_array.reshape(X_test_array.shape[0], timesteps, X_test_array.shape[1])\n",
    "\n",
    "\n",
    "# create model here\n",
    "model = tf.keras.Sequential([\n",
    "    SimpleRNN(units=32, input_shape=(timesteps, num_features)),\n",
    "    Dense(units=4)\n",
    "])\n",
    "model.compile(optimizer='adam', loss='mse', metrics=['accuracy'])\n",
    "model.fit(X_train_reshaped, y_train, epochs=100, batch_size=32)\n",
    "loss, accuracy = model.evaluate(X_test_reshaped, y_test)"
   ]
  },
  {
   "cell_type": "markdown",
   "id": "7dbbe374-2fca-4b13-adb8-c97d2208518e",
   "metadata": {},
   "source": [
    "## LSTM"
   ]
  },
  {
   "cell_type": "code",
   "execution_count": null,
   "id": "527cfa48-a6bf-4390-8fea-4139b44ead4a",
   "metadata": {},
   "outputs": [],
   "source": [
    "import pandas as pd\n",
    "from tensorflow.keras.preprocessing.text import Tokenizer\n",
    "from tensorflow.keras.preprocessing.sequence import pad_sequences\n",
    "from sklearn.model_selection import train_test_split\n",
    "from tensorflow.keras.models import Sequential\n",
    "from tensorflow.keras.layers import LSTM, Dense, Embedding\n",
    "from sklearn.metrics import f1_score\n",
    "import numpy as np\n",
    "\n",
    "# Assuming df is your pandas DataFrame with a column named 'text' containing the sentences\n",
    "# and a column named 'label_column' containing the labels\n",
    "# Example DataFrame:\n",
    "# df = pd.DataFrame({'text': [\"This is sentence 1.\", \"Another sentence.\", \"Yet another sentence.\"],\n",
    "#                    'label_column': [0, 1, 1]})\n",
    "\n",
    "X = df[1].values\n",
    "y = df[0].values\n",
    "\n",
    "# Tokenization\n",
    "tokenizer = Tokenizer()\n",
    "tokenizer.fit_on_texts(X)\n",
    "sequences = tokenizer.texts_to_sequences(X)\n",
    "\n",
    "# Padding\n",
    "max_sequence_length = 100 # max(len(seq) for seq in sequences)\n",
    "padded_sequences = pad_sequences(sequences, maxlen=max_sequence_length, padding='post')\n",
    "\n",
    "# Convert to Numeric\n",
    "X = padded_sequences\n",
    "y = y\n",
    "\n",
    "# Split Data\n",
    "X_train, X_test, y_train, y_test = train_test_split(X, y, test_size=0.2, random_state=42)\n",
    "\n",
    "# Build LSTM Model\n",
    "vocab_size = len(tokenizer.word_index) + 1\n",
    "embedding_dim = 100  # Adjust as needed\n",
    "model = Sequential()\n",
    "model.add(Embedding(input_dim=vocab_size, output_dim=embedding_dim, input_length=max_sequence_length))\n",
    "model.add(LSTM(units=128, implementation=2))  # Disable CuDNN\n",
    "model.add(Dense(units=1, activation='sigmoid'))\n",
    "\n",
    "# Compile Model\n",
    "model.compile(optimizer='adam', loss='binary_crossentropy', metrics=['accuracy'])\n",
    "\n",
    "# Define a data generator\n",
    "def data_generator(X, y, batch_size):\n",
    "    num_samples = X.shape[0]\n",
    "    while True:\n",
    "        indices = np.random.permutation(np.arange(num_samples))\n",
    "        for i in range(0, num_samples, batch_size):\n",
    "            batch_indices = indices[i:i+batch_size]\n",
    "            yield X[batch_indices], y[batch_indices]\n",
    "\n",
    "# Train Model with Data Generator\n",
    "batch_size = 32\n",
    "steps_per_epoch = len(X_train) // batch_size\n",
    "train_generator = data_generator(X_train, y_train, batch_size)\n",
    "\n",
    "# Train Model with Generator\n",
    "model.fit(train_generator, epochs=10, steps_per_epoch=steps_per_epoch, validation_data=(X_test, y_test))\n",
    "\n",
    "# Evaluate Model\n",
    "y_pred = model.predict(X_test)\n",
    "f1 = f1_score(y_test, y_pred, average='macro')\n",
    "print(\"F1 score (macro):\", f1)\n",
    "\n"
   ]
  },
  {
   "cell_type": "markdown",
   "id": "35037039-7f05-47bb-8cbd-fd68d0679300",
   "metadata": {},
   "source": [
    "# Evaluation [unable to see other feature names]"
   ]
  },
  {
   "cell_type": "code",
   "execution_count": null,
   "id": "19d11451-f66d-44db-974d-f63a16aa34af",
   "metadata": {},
   "outputs": [],
   "source": [
    "import shap\n",
    "\n",
    "explainer = shap.Explainer(model, X_train)\n",
    "shap_values = explainer.shap_values(X_test[50:100])\n",
    "shap.summary_plot(shap_values, X_test[50:100], max_display=6)"
   ]
  }
 ],
 "metadata": {
  "kernelspec": {
   "display_name": "Python 3 (ipykernel)",
   "language": "python",
   "name": "python3"
  },
  "language_info": {
   "codemirror_mode": {
    "name": "ipython",
    "version": 3
   },
   "file_extension": ".py",
   "mimetype": "text/x-python",
   "name": "python",
   "nbconvert_exporter": "python",
   "pygments_lexer": "ipython3",
   "version": "3.11.4"
  }
 },
 "nbformat": 4,
 "nbformat_minor": 5
}
